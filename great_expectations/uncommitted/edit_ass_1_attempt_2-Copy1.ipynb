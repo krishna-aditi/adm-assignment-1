{
 "cells": [
  {
   "cell_type": "markdown",
   "id": "91aa9c09",
   "metadata": {},
   "source": [
    "# Edit Your Expectation Suite\n",
    "Use this notebook to recreate and modify your expectation suite:\n",
    "\n",
    "**Expectation Suite Name**: `ass_1_attempt_2`\n"
   ]
  },
  {
   "cell_type": "code",
   "execution_count": null,
   "id": "95259a92",
   "metadata": {},
   "outputs": [],
   "source": [
    "import datetime\n",
    "\n",
    "import pandas as pd\n",
    "\n",
    "import great_expectations as ge\n",
    "import great_expectations.jupyter_ux\n",
    "from great_expectations.core.expectation_configuration import ExpectationConfiguration\n",
    "from great_expectations.data_context.types.resource_identifiers import (\n",
    "    ExpectationSuiteIdentifier,\n",
    ")\n",
    "from great_expectations.exceptions import DataContextError\n",
    "\n",
    "context = ge.data_context.DataContext()\n",
    "\n",
    "\n",
    "# Feel free to change the name of your suite here. Renaming this will not remove the other one.\n",
    "expectation_suite_name = \"ass_1_attempt_2\"\n",
    "try:\n",
    "    suite = context.get_expectation_suite(expectation_suite_name=expectation_suite_name)\n",
    "    print(\n",
    "        f'Loaded ExpectationSuite \"{suite.expectation_suite_name}\" containing {len(suite.expectations)} expectations.'\n",
    "    )\n",
    "except DataContextError:\n",
    "    suite = context.create_expectation_suite(\n",
    "        expectation_suite_name=expectation_suite_name\n",
    "    )\n",
    "    print(f'Created ExpectationSuite \"{suite.expectation_suite_name}\".')"
   ]
  },
  {
   "cell_type": "markdown",
   "id": "a1c23d3a",
   "metadata": {},
   "source": [
    "## Create & Edit Expectations\n",
    "\n",
    "\n",
    "You are adding Expectation configurations to the suite. Since you selected manual mode, there is no sample batch of data and no validation happens during this process. See our documentation for more info and examples: **[How to create a new Expectation Suite without a sample batch](https://docs.greatexpectations.io/docs/guides/expectations/how_to_create_and_edit_expectations_based_on_domain_knowledge_without_inspecting_data_directly)**.\n",
    "\n",
    "Note that if you do use interactive mode you may specify a sample batch of data to use when creating your Expectation Suite. You can then use a `validator` to get immediate feedback on your Expectations against your specified sample batch.\n",
    "\n",
    "\n",
    "You can see all the available expectations in the **[expectation gallery](https://greatexpectations.io/expectations)**."
   ]
  },
  {
   "cell_type": "markdown",
   "id": "11bb80a6",
   "metadata": {},
   "source": [
    "### Table Expectation(s)"
   ]
  },
  {
   "cell_type": "markdown",
   "id": "eb938ca0",
   "metadata": {},
   "source": [
    "No table level expectations are in this suite. Feel free to add some here.\n"
   ]
  },
  {
   "cell_type": "code",
   "execution_count": null,
   "id": "f5c9ed03",
   "metadata": {},
   "outputs": [],
   "source": [
    "# Create an Expectation\n",
    "expectation_configuration = ExpectationConfiguration(\n",
    "   # Name of expectation type being added\n",
    "   expectation_type=\"expect_table_columns_to_match_ordered_list\",\n",
    "   # These are the arguments of the expectation\n",
    "   # The keys allowed in the dictionary are Parameters and\n",
    "   # Keyword Arguments of this Expectation Type\n",
    "   kwargs={\n",
    "      \"column_list\": [\n",
    "         \"marketplace\", \"customer_id\", \"review_id\", \"product_id\", \"product_parent\", \"product_title\", \"product_category\", \"star_rating\", \"helpful_votes\", \"total_votes\", \"vine\", \"verified_purchase\", \"review_headline\", \"review_body\", \"review_date\"\n",
    "      ]\n",
    "   },\n",
    "   # This is how you can optionally add a comment about this expectation.\n",
    "   # It will be rendered in Data Docs.\n",
    "   # See this guide for details:\n",
    "   # `How to add comments to Expectations and display them in Data Docs`.\n",
    "   meta={\n",
    "      \"notes\": {\n",
    "         \"format\": \"markdown\",\n",
    "         \"content\": \"Table expectation - 1: ordered columns in the table\"\n",
    "      }\n",
    "   }\n",
    ")\n",
    "# Add the Expectation to the suite\n",
    "suite.add_expectation(expectation_configuration=expectation_configuration)"
   ]
  },
  {
   "cell_type": "markdown",
   "id": "5cd255e3",
   "metadata": {},
   "source": [
    "### Column Expectation(s)"
   ]
  },
  {
   "cell_type": "markdown",
   "id": "0ae7af18",
   "metadata": {},
   "source": [
    "No column level expectations are in this suite. Feel free to add some here.\n"
   ]
  },
  {
   "cell_type": "code",
   "execution_count": null,
   "id": "255355ec",
   "metadata": {},
   "outputs": [],
   "source": [
    "# Product_id\n",
    "expectation_configuration = ExpectationConfiguration(\n",
    "   expectation_type=\"expect_column_values_to_not_be_null\",\n",
    "   kwargs={\n",
    "      \"column\": \"product_id\",\n",
    "      # \"mostly\": 1.0,\n",
    "   },\n",
    "   meta={\n",
    "      \"notes\": {\n",
    "         \"format\": \"markdown\",\n",
    "         \"content\": \"Column expectation - 1: product ID cannot be null\"\n",
    "      }\n",
    "   }\n",
    ")\n",
    "suite.add_expectation(expectation_configuration=expectation_configuration)"
   ]
  },
  {
   "cell_type": "code",
   "execution_count": null,
   "id": "e0ef284c",
   "metadata": {},
   "outputs": [],
   "source": [
    "# Review_id\n",
    "expectation_configuration = ExpectationConfiguration(\n",
    "   expectation_type=\"expect_column_values_to_not_be_null\",\n",
    "   kwargs={\n",
    "      \"column\": \"review_id\",\n",
    "      # \"mostly\": 1.0,\n",
    "   },\n",
    "   meta={\n",
    "      \"notes\": {\n",
    "         \"format\": \"markdown\",\n",
    "         \"content\": \"Column expectation - 2: review ID cannot be null\"\n",
    "      }\n",
    "   }\n",
    ")\n",
    "suite.add_expectation(expectation_configuration=expectation_configuration)"
   ]
  },
  {
   "cell_type": "code",
   "execution_count": null,
   "id": "711cca53",
   "metadata": {},
   "outputs": [],
   "source": [
    "# Review_date\n",
    "expectation_configuration = ExpectationConfiguration(\n",
    "   expectation_type=\"expect_column_values_to_not_be_null\",\n",
    "   kwargs={\n",
    "      \"column\": \"review_date\",\n",
    "      # \"mostly\": 1.0,\n",
    "   },\n",
    "   meta={\n",
    "      \"notes\": {\n",
    "         \"format\": \"markdown\",\n",
    "         \"content\": \"Column expectation - 3: review date cannot be null\"\n",
    "      }\n",
    "   }\n",
    ")\n",
    "suite.add_expectation(expectation_configuration=expectation_configuration)"
   ]
  },
  {
   "cell_type": "code",
   "execution_count": null,
   "id": "a142763f",
   "metadata": {},
   "outputs": [],
   "source": [
    "# Star_rating max\n",
    "expectation_configuration = ExpectationConfiguration(\n",
    "   expectation_type=\"expect_column_values_to_be_between\",\n",
    "   kwargs={\n",
    "      \"column\": \"star_rating\",\n",
    "       \"max_value\": 5,\n",
    "       \"min_value\": 1,\n",
    "      # \"mostly\": 1.0,\n",
    "   },\n",
    "   meta={\n",
    "      \"notes\": {\n",
    "         \"format\": \"markdown\",\n",
    "         \"content\": \"Column expectation - 4: star_rating should be between 1 to 5\"\n",
    "      }\n",
    "   }\n",
    ")\n",
    "suite.add_expectation(expectation_configuration=expectation_configuration)"
   ]
  },
  {
   "cell_type": "code",
   "execution_count": null,
   "id": "3ab26a85",
   "metadata": {},
   "outputs": [],
   "source": [
    "# vine values to be set\n",
    "expectation_configuration = ExpectationConfiguration(\n",
    "   expectation_type=\"expect_column_values_to_be_in_set\",\n",
    "   kwargs={\n",
    "      \"column\": \"vine\",\n",
    "       \"value_set\": [\"Y\", \"N\"]\n",
    "      # \"mostly\": 1.0,\n",
    "   },\n",
    "   meta={\n",
    "      \"notes\": {\n",
    "         \"format\": \"markdown\",\n",
    "         \"content\": \"Column expectation - 5: vine should be either Y or N\"\n",
    "      }\n",
    "   }\n",
    ")\n",
    "suite.add_expectation(expectation_configuration=expectation_configuration)"
   ]
  },
  {
   "cell_type": "code",
   "execution_count": null,
   "id": "c09e5f2e",
   "metadata": {},
   "outputs": [],
   "source": [
    "# verified_purchase values to be set\n",
    "expectation_configuration = ExpectationConfiguration(\n",
    "   expectation_type=\"expect_column_values_to_be_in_set\",\n",
    "   kwargs={\n",
    "      \"column\": \"verified_purchase\",\n",
    "       \"value_set\": [\"Y\", \"N\"]\n",
    "      # \"mostly\": 1.0,\n",
    "   },\n",
    "   meta={\n",
    "      \"notes\": {\n",
    "         \"format\": \"markdown\",\n",
    "         \"content\": \"Column expectation - 6: verified_purchase should be either Y or N\"\n",
    "      }\n",
    "   }\n",
    ")\n",
    "suite.add_expectation(expectation_configuration=expectation_configuration)"
   ]
  },
  {
   "cell_type": "markdown",
   "id": "9d46b9ad",
   "metadata": {},
   "source": [
    "## Review & Save Your Expectations\n",
    "\n",
    "Let's save the expectation suite as a JSON file in the `great_expectations/expectations` directory of your project.\n",
    "\n",
    "Let's now rebuild your Data Docs, which helps you communicate about your data with both machines and humans."
   ]
  },
  {
   "cell_type": "code",
   "execution_count": null,
   "id": "ab6e8c23",
   "metadata": {},
   "outputs": [],
   "source": [
    "print(context.get_expectation_suite(expectation_suite_name=expectation_suite_name))\n",
    "context.save_expectation_suite(expectation_suite=suite, expectation_suite_name=expectation_suite_name)\n",
    "\n",
    "suite_identifier = ExpectationSuiteIdentifier(expectation_suite_name=expectation_suite_name)\n",
    "context.build_data_docs(resource_identifiers=[suite_identifier])\n",
    "context.open_data_docs(resource_identifier=suite_identifier)"
   ]
  }
 ],
 "metadata": {
  "kernelspec": {
   "display_name": "Python 3 (ipykernel)",
   "language": "python",
   "name": "python3"
  },
  "language_info": {
   "codemirror_mode": {
    "name": "ipython",
    "version": 3
   },
   "file_extension": ".py",
   "mimetype": "text/x-python",
   "name": "python",
   "nbconvert_exporter": "python",
   "pygments_lexer": "ipython3",
   "version": "3.9.7"
  }
 },
 "nbformat": 4,
 "nbformat_minor": 5
}
